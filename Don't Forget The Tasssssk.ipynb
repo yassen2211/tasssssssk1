{
 "cells": [
  {
   "cell_type": "code",
   "execution_count": 1,
   "id": "8db120db",
   "metadata": {},
   "outputs": [],
   "source": [
    "import numpy as np\n",
    "import cv2"
   ]
  },
  {
   "cell_type": "code",
   "execution_count": null,
   "id": "432f274f",
   "metadata": {},
   "outputs": [],
   "source": [
    "image = cv2.imread('C:\\\\Users\\\\Dell\\\\Downloads\\\\FreeVector-Real-Madrid-Icon.jpg')\n",
    "\n",
    "\n",
    "gray_image = cv2.cvtColor(image, cv2.COLOR_BGR2GRAY)\n",
    "\n",
    "\n",
    "f = np.fft.fft2(gray_image)\n",
    "fshift = np.fft.fftshift(f)\n",
    "magnitude_spectrum = 20*np.log(np.abs(fshift))\n",
    "\n",
    "\n",
    "h_pass = np.zeros((image.shape[0], image.shape[1]))\n",
    "h_pass[(image.shape[0]//2-image.shape[0]//5):(image.shape[0]//2+image.shape[0]//5),\n",
    "      (image.shape[1]//2-image.shape[1]//5):(image.shape[1]//2+image.shape[1]//5)] = 1\n",
    "\n",
    "\n",
    "filtered_image = fshift * h_pass\n",
    "\n",
    "\n",
    "\n",
    "img_back = np.fft.ifftshift(filtered_image)\n",
    "img_back = np.fft.ifft2(img_back)\n",
    "edges = np.real(img_back)\n",
    "\n",
    "\n",
    "\n",
    "cv2.imshow('Original Image', gray_image)\n",
    "cv2.imshow('Edges Image', edges)\n",
    "cv2.waitKey(0)\n",
    "cv2.destroyAllWindows()"
   ]
  },
  {
   "cell_type": "code",
   "execution_count": null,
   "id": "80a8a611",
   "metadata": {},
   "outputs": [],
   "source": []
  }
 ],
 "metadata": {
  "kernelspec": {
   "display_name": "Python 3 (ipykernel)",
   "language": "python",
   "name": "python3"
  },
  "language_info": {
   "codemirror_mode": {
    "name": "ipython",
    "version": 3
   },
   "file_extension": ".py",
   "mimetype": "text/x-python",
   "name": "python",
   "nbconvert_exporter": "python",
   "pygments_lexer": "ipython3",
   "version": "3.11.5"
  }
 },
 "nbformat": 4,
 "nbformat_minor": 5
}
